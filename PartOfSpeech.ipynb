{
  "cells": [
    {
      "cell_type": "code",
      "execution_count": null,
      "metadata": {
        "id": "zEvJ1Aotkcbe"
      },
      "outputs": [],
      "source": [
        "import spacy\n",
        "import pandas as pd"
      ]
    },
    {
      "cell_type": "code",
      "execution_count": null,
      "metadata": {
        "id": "5Pgg1Qb5kveE"
      },
      "outputs": [],
      "source": [
        "nlp = spacy.load(\"en_core_web_sm\")"
      ]
    },
    {
      "cell_type": "code",
      "execution_count": null,
      "metadata": {
        "id": "NTv2brVJk6HH"
      },
      "outputs": [],
      "source": [
        "emma_ja = \"\"\"It was a bright cold day in April, and the clocks were striking thirteen. Winston Smith, his chin nuzzled into his breast in an effort to escape the vile wind, slipped quickly through the glass doors of Victory Mansions, though not quickly enough to prevent a swirl of gritty dust from entering along with him.\n",
        "\n",
        "The hallway smelt of boiled cabbage and old rag mats. At one end of it a coloured poster, too large for indoor display, had been tacked to the wall. It depicted simply the enormous face of a man of about forty-five, with a heavy black moustache and surprisingly handsome features. It was one of those pictures which are so contructed that the eyes follow you about when you move. BIG BROTHER IS WATCHING YOU, the caption beneath it ran.\n",
        "\n",
        "Inside the flat a fruity voice was reading out a list of figures which had something to do with the production of pig-iron. The voice came from an oblong metal plaque like a dulled mirror which formed part of the surface of the right-hand wall. Winston turned a switch and the voice sank slightly, but did not become unintelligible. The instrument (the telescreen, it was called) could be dimmed, but there was no way of shutting it off completely.\"\"\""
      ]
    },
    {
      "cell_type": "code",
      "execution_count": null,
      "metadata": {
        "colab": {
          "base_uri": "https://localhost:8080/"
        },
        "id": "CRnLJzaZlIgH",
        "outputId": "2acd3c1c-58ea-4530-ebfb-f32b24d15c04"
      },
      "outputs": [],
      "source": [
        "print(emma_ja)"
      ]
    },
    {
      "cell_type": "code",
      "execution_count": null,
      "metadata": {
        "id": "RYKwuboKlKN0"
      },
      "outputs": [],
      "source": [
        "spacy_doc=nlp(emma_ja)"
      ]
    },
    {
      "cell_type": "code",
      "execution_count": null,
      "metadata": {
        "id": "RaXkA-OVlQ5T"
      },
      "outputs": [],
      "source": [
        "pos_df= pd.DataFrame(columns=['token','pos_tag'])"
      ]
    },
    {
      "cell_type": "code",
      "execution_count": null,
      "metadata": {
        "id": "KCroyfAJldg9"
      },
      "outputs": [],
      "source": [
        "for token in spacy_doc:\n",
        "    pos_df=pd.concat([pos_df,\n",
        "                      pd.DataFrame.from_records({'token':[token.text],'pos_tag':[token.pos_]})],ignore_index=True)"
      ]
    },
    {
      "cell_type": "code",
      "execution_count": null,
      "metadata": {
        "colab": {
          "base_uri": "https://localhost:8080/",
          "height": 520
        },
        "id": "LKJJPLCrl6Tb",
        "outputId": "f9323d4d-caa4-4153-881a-28dd93054d75"
      },
      "outputs": [],
      "source": [
        "pos_df.head(15)"
      ]
    },
    {
      "cell_type": "code",
      "execution_count": null,
      "metadata": {
        "id": "vAlBxXOrmAMc"
      },
      "outputs": [],
      "source": [
        "pos_df_counts=pos_df.groupby(['token','pos_tag']).size().reset_index(name='counts').sort_values('counts',ascending=False)"
      ]
    },
    {
      "cell_type": "code",
      "execution_count": null,
      "metadata": {
        "colab": {
          "base_uri": "https://localhost:8080/",
          "height": 363
        },
        "id": "CLGHk0sxmjAU",
        "outputId": "053194a3-2219-4734-be9c-76937a789abc"
      },
      "outputs": [],
      "source": [
        "pos_df_counts.head(10)"
      ]
    },
    {
      "cell_type": "code",
      "execution_count": null,
      "metadata": {
        "id": "N1sUC3W3mmFJ"
      },
      "outputs": [],
      "source": [
        "pos_df_poscounts=pos_df_counts.groupby(['pos_tag'])['token'].count().sort_values(ascending=False)"
      ]
    },
    {
      "cell_type": "code",
      "execution_count": null,
      "metadata": {
        "colab": {
          "base_uri": "https://localhost:8080/",
          "height": 429
        },
        "id": "OQMZSVgMnX32",
        "outputId": "3bafbb3e-259e-414c-ba58-47343a24633c"
      },
      "outputs": [],
      "source": [
        "pos_df_poscounts.head(10)"
      ]
    },
    {
      "cell_type": "code",
      "execution_count": null,
      "metadata": {
        "colab": {
          "base_uri": "https://localhost:8080/",
          "height": 363
        },
        "id": "mN-G2kJanz0h",
        "outputId": "4f826ee6-d543-4e2b-9c10-511b81112f81"
      },
      "outputs": [],
      "source": [
        "nouns=pos_df_counts[pos_df_counts['pos_tag']=='NOUN'][:10]\n",
        "nouns"
      ]
    },
    {
      "cell_type": "code",
      "execution_count": null,
      "metadata": {
        "id": "KwISkuwJoBrh"
      },
      "outputs": [],
      "source": []
    }
  ],
  "metadata": {
    "colab": {
      "provenance": []
    },
    "kernelspec": {
      "display_name": "Python 3",
      "name": "python3"
    },
    "language_info": {
      "name": "python"
    }
  },
  "nbformat": 4,
  "nbformat_minor": 0
}
