{
  "cells": [
    {
      "cell_type": "code",
      "execution_count": null,
      "metadata": {
        "colab": {
          "base_uri": "https://localhost:8080/"
        },
        "id": "m0MrhNdCtykD",
        "outputId": "63f60a57-bfa7-41b0-e7b4-cd0fbcc18e18"
      },
      "outputs": [],
      "source": [
        "import nltk\n",
        "from nltk.tokenize import word_tokenize\n",
        "from nltk.corpus import stopwords\n",
        "from nltk.stem import WordNetLemmatizer\n",
        "import spacy\n",
        "import re\n",
        "import pandas as pd\n",
        "import matplotlib as plt\n",
        "\n",
        "nltk.download('stopwords')\n",
        "nltk.download('punkt')\n",
        "\n"
      ]
    },
    {
      "cell_type": "markdown",
      "metadata": {
        "id": "bKkb_TblvKAy"
      },
      "source": [
        "# Load Data"
      ]
    },
    {
      "cell_type": "code",
      "execution_count": null,
      "metadata": {
        "colab": {
          "base_uri": "https://localhost:8080/",
          "height": 310
        },
        "id": "8FQK0MEjueZM",
        "outputId": "c3370f73-ae56-41a8-e980-676a1c9e9079"
      },
      "outputs": [],
      "source": [
        "bbc_data=pd.read_csv('/content/bbc_news.csv')\n",
        "bbc_data.head()"
      ]
    },
    {
      "cell_type": "code",
      "execution_count": null,
      "metadata": {
        "colab": {
          "base_uri": "https://localhost:8080/"
        },
        "id": "601C3NuPu3bf",
        "outputId": "c85069b7-4c98-4029-e856-5228ed5b1922"
      },
      "outputs": [],
      "source": [
        "bbc_data.info()"
      ]
    },
    {
      "cell_type": "code",
      "execution_count": null,
      "metadata": {
        "colab": {
          "base_uri": "https://localhost:8080/",
          "height": 206
        },
        "id": "-MYJ391VvASv",
        "outputId": "166208c3-ae8c-43b3-b350-83c8db738028"
      },
      "outputs": [],
      "source": [
        "titles=pd.DataFrame(bbc_data['title'])\n",
        "titles.head()"
      ]
    },
    {
      "cell_type": "markdown",
      "metadata": {
        "id": "xMNnla69vl5i"
      },
      "source": [
        "# Clean Data\n"
      ]
    },
    {
      "cell_type": "code",
      "execution_count": null,
      "metadata": {
        "id": "t42CIuDtvfkT"
      },
      "outputs": [],
      "source": [
        "# Lower Case\n",
        "titles['title']=titles['title'].str.lower()"
      ]
    },
    {
      "cell_type": "code",
      "execution_count": null,
      "metadata": {
        "id": "a7zuVJ_JwWxg"
      },
      "outputs": [],
      "source": [
        "# Stop word removal\n",
        "en_stopwords=stopwords.words('english')\n",
        "titles['no_stop_words']=titles['title'].apply(lambda x: ' '.join([word for word in x.split() if word not in (en_stopwords)]))"
      ]
    },
    {
      "cell_type": "code",
      "execution_count": null,
      "metadata": {
        "id": "Nceb-If9wpQp"
      },
      "outputs": [],
      "source": [
        "# Punctation removal\n",
        "titles['no_stopwords_no_punct']=titles.apply(lambda x: re.sub(r'[^\\w\\s]','',x['no_stop_words']), axis=1)"
      ]
    },
    {
      "cell_type": "code",
      "execution_count": null,
      "metadata": {
        "colab": {
          "base_uri": "https://localhost:8080/"
        },
        "id": "8ADFiuyixvGU",
        "outputId": "ddd8384b-d473-4331-df27-57bb65f2d0b6"
      },
      "outputs": [],
      "source": [
        "nltk.download('punkt_tab')\n"
      ]
    },
    {
      "cell_type": "code",
      "execution_count": null,
      "metadata": {
        "id": "DYkFmij5xCW8"
      },
      "outputs": [],
      "source": [
        "# Tokenization\n",
        "titles['tokens_raw']=titles.apply(lambda x: word_tokenize(x['no_stopwords_no_punct']), axis=1)\n",
        "titles['tokens_clean']=titles.apply(lambda x: word_tokenize(x['no_stopwords_no_punct']), axis=1)"
      ]
    },
    {
      "cell_type": "code",
      "execution_count": null,
      "metadata": {
        "colab": {
          "base_uri": "https://localhost:8080/"
        },
        "id": "zqRjLwTbxsN6",
        "outputId": "fd8fa8cd-8372-4cb2-f8c1-33b3c3d7d508"
      },
      "outputs": [],
      "source": [
        "# Lemmatization\n",
        "nltk.download('wordnet')\n",
        "lemmatizer=WordNetLemmatizer()\n",
        "titles['tokens_clean_lammatized']=titles['tokens_clean'].apply(lambda x: [lemmatizer.lemmatize(word) for word in x])"
      ]
    },
    {
      "cell_type": "code",
      "execution_count": null,
      "metadata": {
        "colab": {
          "base_uri": "https://localhost:8080/",
          "height": 537
        },
        "id": "17J33uO8x-Nw",
        "outputId": "9fdfb8c4-f12d-4e58-96ba-b1ef02f6fa4d"
      },
      "outputs": [],
      "source": [
        "titles.head(10)"
      ]
    },
    {
      "cell_type": "code",
      "execution_count": null,
      "metadata": {
        "id": "zCrUSaiFyDy9"
      },
      "outputs": [],
      "source": [
        "# Create list for just our tokens\n",
        "tokens_raw_list= sum (titles['tokens_raw'], [])\n",
        "tokens_clean_list= sum (titles['tokens_clean'], [])"
      ]
    },
    {
      "cell_type": "markdown",
      "metadata": {
        "id": "JetYdBl4yyRy"
      },
      "source": [
        "# POS Tagging"
      ]
    },
    {
      "cell_type": "code",
      "execution_count": null,
      "metadata": {
        "id": "j7fKHXYsyw-M"
      },
      "outputs": [],
      "source": [
        "nlp=spacy.load('en_core_web_sm')"
      ]
    },
    {
      "cell_type": "code",
      "execution_count": null,
      "metadata": {
        "id": "CeLCT4W3zBpx"
      },
      "outputs": [],
      "source": [
        "spacy_doc=nlp(' '.join(tokens_raw_list))"
      ]
    },
    {
      "cell_type": "code",
      "execution_count": null,
      "metadata": {
        "id": "aBSKjoUazLhX"
      },
      "outputs": [],
      "source": [
        "pos_df=pd.DataFrame(columns=['token','pos_tag'])"
      ]
    },
    {
      "cell_type": "code",
      "execution_count": null,
      "metadata": {
        "id": "7R0tax3i0eQ1"
      },
      "outputs": [],
      "source": [
        "for token in spacy_doc:\n",
        "  pos_df= pd.concat([pos_df,\n",
        "                     pd.DataFrame.from_records([{'token':token.text,\n",
        "                                                 'pos_tag':token.pos_}])],ignore_index=True)"
      ]
    },
    {
      "cell_type": "code",
      "execution_count": null,
      "metadata": {
        "colab": {
          "base_uri": "https://localhost:8080/",
          "height": 363
        },
        "id": "y50b_kP403Zj",
        "outputId": "af9a9d3f-738f-494b-9d17-7fa63a0963ed"
      },
      "outputs": [],
      "source": [
        "pos_df_counts=pos_df.groupby(['token','pos_tag']).size().reset_index(name='count').sort_values(by='count',ascending=False)\n",
        "pos_df_counts.head(10)"
      ]
    },
    {
      "cell_type": "code",
      "execution_count": null,
      "metadata": {
        "colab": {
          "base_uri": "https://localhost:8080/",
          "height": 363
        },
        "id": "qUw6RUOX1knO",
        "outputId": "04b8fd5e-d74e-4295-ab06-bba10a70bf39"
      },
      "outputs": [],
      "source": [
        "nouns=pos_df_counts[pos_df_counts['pos_tag']=='NOUN'][0:10]\n",
        "nouns"
      ]
    },
    {
      "cell_type": "markdown",
      "metadata": {
        "id": "yS31sTeT2WHF"
      },
      "source": [
        "# NER"
      ]
    },
    {
      "cell_type": "code",
      "execution_count": null,
      "metadata": {
        "id": "Q_V2TAsD2LVW"
      },
      "outputs": [],
      "source": [
        "ner_df=pd.DataFrame(columns=['token','ner_tag'])\n",
        "for token in spacy_doc.ents:\n",
        "  if pd.isna(token.label_) is False:\n",
        "    ner_df= pd.concat([ner_df,\n",
        "                     pd.DataFrame.from_records([{'token':token.text,\n",
        "                                                 'ner_tag':token.label_}])],ignore_index=True)"
      ]
    },
    {
      "cell_type": "code",
      "execution_count": null,
      "metadata": {
        "colab": {
          "base_uri": "https://localhost:8080/",
          "height": 206
        },
        "id": "MyL0W6-S25oj",
        "outputId": "eca260cd-0d53-4b0c-8e35-ad775f532e77"
      },
      "outputs": [],
      "source": [
        "ner_df.head()"
      ]
    },
    {
      "cell_type": "code",
      "execution_count": null,
      "metadata": {
        "id": "vWGlam3r3I7M"
      },
      "outputs": [],
      "source": [
        "ner_df_counts=ner_df.groupby(['token','ner_tag']).size().reset_index(name='count').sort_values(by='count',ascending=False)"
      ]
    },
    {
      "cell_type": "code",
      "execution_count": null,
      "metadata": {
        "colab": {
          "base_uri": "https://localhost:8080/",
          "height": 363
        },
        "id": "Ntgk6eAO3nB9",
        "outputId": "f21ddaca-68e1-45b7-d499-1ad0ff07d8fa"
      },
      "outputs": [],
      "source": [
        "ner_df_counts.head(10)"
      ]
    },
    {
      "cell_type": "code",
      "execution_count": null,
      "metadata": {
        "colab": {
          "base_uri": "https://localhost:8080/",
          "height": 363
        },
        "id": "DXV1y83S3qo2",
        "outputId": "5612d05e-f6c5-4373-a802-25f2a3dcf9da"
      },
      "outputs": [],
      "source": [
        "people = ner_df_counts[ner_df_counts['ner_tag']=='PERSON'][0:10]\n",
        "people"
      ]
    },
    {
      "cell_type": "code",
      "execution_count": null,
      "metadata": {
        "id": "VZGGlcjJ33f1"
      },
      "outputs": [],
      "source": []
    }
  ],
  "metadata": {
    "colab": {
      "provenance": []
    },
    "kernelspec": {
      "display_name": "Python 3",
      "name": "python3"
    },
    "language_info": {
      "name": "python"
    }
  },
  "nbformat": 4,
  "nbformat_minor": 0
}
