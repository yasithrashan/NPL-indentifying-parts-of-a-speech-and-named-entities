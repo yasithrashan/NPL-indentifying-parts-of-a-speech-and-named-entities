{
  "cells": [
    {
      "cell_type": "code",
      "execution_count": null,
      "metadata": {
        "id": "jMMzI7o_oiFN"
      },
      "outputs": [],
      "source": [
        "import spacy\n",
        "from spacy import displacy\n",
        "from spacy import tokenizer\n",
        "import re"
      ]
    },
    {
      "cell_type": "code",
      "execution_count": null,
      "metadata": {
        "id": "h3PhybVspQRV"
      },
      "outputs": [],
      "source": [
        "npl =spacy.load(\"en_core_web_sm\")"
      ]
    },
    {
      "cell_type": "code",
      "execution_count": null,
      "metadata": {
        "id": "5d1738a6"
      },
      "outputs": [],
      "source": [
        "google_text = \"\"\"\n",
        "Google is a global technology company that specializes in internet-related services and products, including online advertising technologies, search engine, cloud computing, software, and hardware. Founded in 1998 by Larry Page and Sergey Brin while they were Ph.D. students at Stanford University, Google has grown to become one of the most influential and valuable companies in the world. Its flagship product, the Google search engine, is the most widely used search engine globally, processing billions of search queries each day.\n",
        "\n",
        "Beyond search, Google offers a vast ecosystem of products and services. This includes popular platforms like YouTube for video sharing, Gmail for email, Google Maps for navigation, and Google Drive for cloud storage. The company is also a major player in mobile operating systems with Android, which powers the majority of smartphones worldwide. Google's hardware offerings include Pixel smartphones, Google Home smart speakers, and Nest smart home devices.\n",
        "\n",
        "Google's mission is to organize the world's information and make it universally accessible and useful. The company is known for its innovative culture and its focus on research and development, particularly in areas like artificial intelligence and machine learning. While Google's dominance in the online advertising market has raised concerns about privacy and competition, the company continues to shape the digital landscape and remains at the forefront of technological advancements. Its impact on how we access information, communicate, and interact with technology is undeniable.\n",
        "\"\"\""
      ]
    },
    {
      "cell_type": "code",
      "execution_count": null,
      "metadata": {
        "colab": {
          "base_uri": "https://localhost:8080/"
        },
        "id": "IGT3MlnFppyR",
        "outputId": "97f82a40-93f5-4c8d-c7a4-f99bd2d9cd8d"
      },
      "outputs": [],
      "source": [
        "print(google_text)"
      ]
    },
    {
      "cell_type": "code",
      "execution_count": null,
      "metadata": {
        "id": "LCiRyhMqpr43"
      },
      "outputs": [],
      "source": [
        "spacy_doc = npl(google_text)"
      ]
    },
    {
      "cell_type": "code",
      "execution_count": null,
      "metadata": {
        "colab": {
          "base_uri": "https://localhost:8080/"
        },
        "id": "RVKgQqbjpure",
        "outputId": "42e8c8e5-f722-47bc-9511-a147f9cb6dd4"
      },
      "outputs": [],
      "source": [
        "for word in spacy_doc.ents:\n",
        "    print(word.text,word.label_)"
      ]
    },
    {
      "cell_type": "code",
      "execution_count": null,
      "metadata": {
        "colab": {
          "base_uri": "https://localhost:8080/",
          "height": 492
        },
        "id": "QM7WBW9bqDWt",
        "outputId": "e6bb722b-1084-46a5-ec52-390e0f70035b"
      },
      "outputs": [],
      "source": [
        "displacy.render(spacy_doc,style=\"ent\",jupyter=True)"
      ]
    },
    {
      "cell_type": "code",
      "execution_count": null,
      "metadata": {
        "colab": {
          "base_uri": "https://localhost:8080/"
        },
        "id": "374uQCxwqNCo",
        "outputId": "3c2f91cf-f2ba-423c-cab7-679ccc4edc79"
      },
      "outputs": [],
      "source": [
        "google_text_clean=re.sub(r'[^\\W\\S]','',google_text).lower()\n",
        "print(google_text_clean)"
      ]
    },
    {
      "cell_type": "code",
      "execution_count": null,
      "metadata": {
        "id": "RTYTGa0Rqncn"
      },
      "outputs": [],
      "source": [
        "spacy_doc_clean=npl(google_text_clean)"
      ]
    },
    {
      "cell_type": "code",
      "execution_count": null,
      "metadata": {
        "colab": {
          "base_uri": "https://localhost:8080/"
        },
        "id": "mu6vw7zsq-bx",
        "outputId": "bdff3292-eeec-404e-8a4d-c7b4a3f7592c"
      },
      "outputs": [],
      "source": [
        "for word in spacy_doc_clean.ents:\n",
        "    print(word.text,word.label_)"
      ]
    },
    {
      "cell_type": "code",
      "execution_count": null,
      "metadata": {
        "colab": {
          "base_uri": "https://localhost:8080/",
          "height": 437
        },
        "id": "H5GYQAqhrEda",
        "outputId": "a7fee33f-0241-4c5a-a096-c0db047879ce"
      },
      "outputs": [],
      "source": [
        "displacy.render(spacy_doc_clean,style=\"ent\",jupyter=True)"
      ]
    },
    {
      "cell_type": "code",
      "execution_count": null,
      "metadata": {},
      "outputs": [],
      "source": []
    }
  ],
  "metadata": {
    "colab": {
      "provenance": []
    },
    "kernelspec": {
      "display_name": "Python 3",
      "name": "python3"
    },
    "language_info": {
      "name": "python"
    }
  },
  "nbformat": 4,
  "nbformat_minor": 0
}
